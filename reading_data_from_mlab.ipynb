{
 "cells": [
  {
   "cell_type": "code",
   "execution_count": 14,
   "metadata": {
    "collapsed": true
   },
   "outputs": [],
   "source": [
    "import pandas as pd\n",
    "import numpy as np\n",
    "from pymongo import MongoClient\n",
    "import json\n",
    "import nltk.data"
   ]
  },
  {
   "cell_type": "code",
   "execution_count": 2,
   "metadata": {
    "collapsed": true
   },
   "outputs": [],
   "source": [
    "# connect to the server with the collections/databases\n",
    "client = MongoClient('OBSFUCATE')"
   ]
  },
  {
   "cell_type": "code",
   "execution_count": 3,
   "metadata": {
    "collapsed": true
   },
   "outputs": [],
   "source": [
    "# connect to the specific collection\n",
    "db = client.test_network"
   ]
  },
  {
   "cell_type": "code",
   "execution_count": 4,
   "metadata": {
    "collapsed": false
   },
   "outputs": [
    {
     "data": {
      "text/plain": [
       "True"
      ]
     },
     "execution_count": 4,
     "metadata": {},
     "output_type": "execute_result"
    }
   ],
   "source": [
    "# pass in credentials\n",
    "db.authenticate('OBSFUCATE','OBSFUCATE', source='test_network')"
   ]
  },
  {
   "cell_type": "code",
   "execution_count": 5,
   "metadata": {
    "collapsed": false
   },
   "outputs": [
    {
     "data": {
      "text/plain": [
       "Database(MongoClient(host=['ds019936.mlab.com:19936'], document_class=dict, tz_aware=False, connect=True), u'test_network')"
      ]
     },
     "execution_count": 5,
     "metadata": {},
     "output_type": "execute_result"
    }
   ],
   "source": [
    "db"
   ]
  },
  {
   "cell_type": "code",
   "execution_count": 18,
   "metadata": {
    "collapsed": true
   },
   "outputs": [],
   "source": [
    "documents = db.test_network"
   ]
  },
  {
   "cell_type": "code",
   "execution_count": 20,
   "metadata": {
    "collapsed": false
   },
   "outputs": [],
   "source": [
    "answers = []\n",
    "questions = []\n",
    "descriptions = []\n",
    "for document in documents.find():\n",
    "    answers.append(document['answer'])\n",
    "    questions.append(document['question'])\n",
    "    descriptions.append(document['facts'])"
   ]
  },
  {
   "cell_type": "code",
   "execution_count": 23,
   "metadata": {
    "collapsed": true
   },
   "outputs": [],
   "source": [
    "answers_s = answers[:5]\n",
    "questions_s = questions[:5]\n",
    "descriptions_s = descriptions[:5]"
   ]
  },
  {
   "cell_type": "code",
   "execution_count": 24,
   "metadata": {
    "collapsed": true
   },
   "outputs": [],
   "source": [
    "sent_detector = nltk.data.load('tokenizers/punkt/english.pickle')\n",
    "#     .join(sent_detector.tokenize(text.strip())"
   ]
  },
  {
   "cell_type": "code",
   "execution_count": 32,
   "metadata": {
    "collapsed": false
   },
   "outputs": [
    {
     "data": {
      "text/plain": [
       "u'Belkin Easy Transfer Cable for Windows VistaWith the Belkin Easy Transfer Cable, upgrading to a new computer has never been easier. It offers a quick way to transfer your files and settings from your old computer to a new one. Just install the software provided on the enclosed CD onto your computer. Then, connect each end of the cable to the USB ports on both computers. The Windows Easy Transfer wizard automatically appears and lets you select items to copy. With just a couple of clicks, you can transfer your photos, music, settings, etc.With a couple of clicks, your photos, music, settings, and more transfer, without requiring time-consuming CD-burning or a network.Just connect each end of the 8-foot Cable to the USB ports on both computers. The Windows Easy Transfer Wizard automatically appears and lets you select some&mdash;or all&mdash;items to copy.Transfers files in three quick and easy steps: 1. Install - 2. Connect - 3. TransferAutomatically transfers your photos, music, files, email, user accounts, Windows settings&mdash;and moreEliminates need to set up a complex network, or spend hours burning CDs to copy dataTransfers 30GB of data in just 1 hour... or, just 1 hour to transfer 7,500 songs to your new PCOffers ideal mobile solution for copying files to and from your notebook, and home and work PCsFaster and easier to transfer data than a network, or copying files to a hard drive or burning CDsBelkin includes FREE file-synchronization software. With \"One-Click,\" PCsync software automatically synchronizes files, folders, music, photos, video&mdash;and much more&mdash;between your PCs.yes it will, you just have to make sure that the computer that is running xp has the easy transfer on it, and then everything will work like it should without a problem. hope this helps'"
      ]
     },
     "execution_count": 32,
     "metadata": {},
     "output_type": "execute_result"
    }
   ],
   "source": [
    "descriptions_s[4]"
   ]
  },
  {
   "cell_type": "code",
   "execution_count": 37,
   "metadata": {
    "collapsed": false
   },
   "outputs": [],
   "source": [
    "desc_sent = sent_detector.tokenize(descriptions_s[4])"
   ]
  },
  {
   "cell_type": "code",
   "execution_count": 38,
   "metadata": {
    "collapsed": false
   },
   "outputs": [
    {
     "data": {
      "text/plain": [
       "[u'Belkin Easy Transfer Cable for Windows VistaWith the Belkin Easy Transfer Cable, upgrading to a new computer has never been easier.',\n",
       " u'It offers a quick way to transfer your files and settings from your old computer to a new one.',\n",
       " u'Just install the software provided on the enclosed CD onto your computer.',\n",
       " u'Then, connect each end of the cable to the USB ports on both computers.',\n",
       " u'The Windows Easy Transfer wizard automatically appears and lets you select items to copy.',\n",
       " u'With just a couple of clicks, you can transfer your photos, music, settings, etc.With a couple of clicks, your photos, music, settings, and more transfer, without requiring time-consuming CD-burning or a network.Just connect each end of the 8-foot Cable to the USB ports on both computers.',\n",
       " u'The Windows Easy Transfer Wizard automatically appears and lets you select some&mdash;or all&mdash;items to copy.Transfers files in three quick and easy steps: 1.',\n",
       " u'Install - 2.',\n",
       " u'Connect - 3.',\n",
       " u'TransferAutomatically transfers your photos, music, files, email, user accounts, Windows settings&mdash;and moreEliminates need to set up a complex network, or spend hours burning CDs to copy dataTransfers 30GB of data in just 1 hour... or, just 1 hour to transfer 7,500 songs to your new PCOffers ideal mobile solution for copying files to and from your notebook, and home and work PCsFaster and easier to transfer data than a network, or copying files to a hard drive or burning CDsBelkin includes FREE file-synchronization software.',\n",
       " u'With \"One-Click,\" PCsync software automatically synchronizes files, folders, music, photos, video&mdash;and much more&mdash;between your PCs.yes it will, you just have to make sure that the computer that is running xp has the easy transfer on it, and then everything will work like it should without a problem.',\n",
       " u'hope this helps']"
      ]
     },
     "execution_count": 38,
     "metadata": {},
     "output_type": "execute_result"
    }
   ],
   "source": [
    "desc_sent"
   ]
  },
  {
   "cell_type": "code",
   "execution_count": 21,
   "metadata": {
    "collapsed": false
   },
   "outputs": [
    {
     "data": {
      "text/plain": [
       "86374"
      ]
     },
     "execution_count": 21,
     "metadata": {},
     "output_type": "execute_result"
    }
   ],
   "source": [
    "len(answers)"
   ]
  },
  {
   "cell_type": "code",
   "execution_count": 11,
   "metadata": {
    "collapsed": false
   },
   "outputs": [
    {
     "data": {
      "text/plain": [
       "86374"
      ]
     },
     "execution_count": 11,
     "metadata": {},
     "output_type": "execute_result"
    }
   ],
   "source": [
    "len(questions)"
   ]
  },
  {
   "cell_type": "code",
   "execution_count": 12,
   "metadata": {
    "collapsed": false
   },
   "outputs": [
    {
     "data": {
      "text/plain": [
       "86374"
      ]
     },
     "execution_count": 12,
     "metadata": {},
     "output_type": "execute_result"
    }
   ],
   "source": [
    "len(descriptions)"
   ]
  },
  {
   "cell_type": "code",
   "execution_count": null,
   "metadata": {
    "collapsed": true
   },
   "outputs": [],
   "source": []
  }
 ],
 "metadata": {
  "kernelspec": {
   "display_name": "Python 2",
   "language": "python",
   "name": "python2"
  },
  "language_info": {
   "codemirror_mode": {
    "name": "ipython",
    "version": 2
   },
   "file_extension": ".py",
   "mimetype": "text/x-python",
   "name": "python",
   "nbconvert_exporter": "python",
   "pygments_lexer": "ipython2",
   "version": "2.7.11"
  }
 },
 "nbformat": 4,
 "nbformat_minor": 0
}
