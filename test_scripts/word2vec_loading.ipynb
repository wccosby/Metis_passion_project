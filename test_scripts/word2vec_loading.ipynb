{
 "cells": [
  {
   "cell_type": "code",
   "execution_count": 1,
   "metadata": {
    "collapsed": true
   },
   "outputs": [],
   "source": [
    "import numpy as np\n",
    "from collections import defaultdict"
   ]
  },
  {
   "cell_type": "code",
   "execution_count": 2,
   "metadata": {
    "collapsed": true
   },
   "outputs": [],
   "source": [
    "with open('/Users/williamcosby/Documents/metis/Passion_Project_Stratus/data/glove/glove.6B/glove.6B.50d.txt', 'r') as f:\n",
    "    content = f.readlines()"
   ]
  },
  {
   "cell_type": "code",
   "execution_count": 10,
   "metadata": {
    "collapsed": false
   },
   "outputs": [],
   "source": [
    "# content is a list of the word vectors, so need to split each line and get the word\n",
    "word_vectors = defaultdict(list)\n",
    "word_vectors['<UNK>'] = [0 for i in range(50)]\n",
    "for vec in content:\n",
    "    split_vec = vec.split()\n",
    "    num_list = []\n",
    "    for num in split_vec[1:]:\n",
    "        num_list.append(float(num))\n",
    "    word_vectors[split_vec[0]] = num_list\n",
    "    "
   ]
  },
  {
   "cell_type": "code",
   "execution_count": 13,
   "metadata": {
    "collapsed": false
   },
   "outputs": [
    {
     "data": {
      "text/plain": [
       "50"
      ]
     },
     "execution_count": 13,
     "metadata": {},
     "output_type": "execute_result"
    }
   ],
   "source": [
    "len(word_vectors['unk'])"
   ]
  },
  {
   "cell_type": "code",
   "execution_count": 4,
   "metadata": {
    "collapsed": false
   },
   "outputs": [
    {
     "data": {
      "text/plain": [
       "[0.75302,\n",
       " 0.80138,\n",
       " -0.73877,\n",
       " -0.49816,\n",
       " -1.0483,\n",
       " -0.58618,\n",
       " -0.29853,\n",
       " -1.423,\n",
       " -0.20396,\n",
       " 1.5498,\n",
       " -0.012425,\n",
       " 0.5024,\n",
       " -0.36418,\n",
       " -0.43027,\n",
       " 0.7281,\n",
       " -0.56351,\n",
       " -0.22224,\n",
       " 0.70219,\n",
       " 0.10883,\n",
       " -0.57119,\n",
       " -0.14105,\n",
       " -0.54571,\n",
       " -0.036199,\n",
       " -0.20668,\n",
       " -0.77737,\n",
       " 1.1948,\n",
       " 0.061053,\n",
       " -0.17883,\n",
       " -0.50589,\n",
       " -0.52099,\n",
       " -1.1048,\n",
       " 0.71149,\n",
       " 0.43716,\n",
       " -0.87338,\n",
       " 0.055765,\n",
       " 0.084726,\n",
       " -0.25316,\n",
       " 1.1206,\n",
       " -0.36558,\n",
       " 0.06805,\n",
       " -0.00078459,\n",
       " -1.0247,\n",
       " 0.72503,\n",
       " 0.46722,\n",
       " 0.93257,\n",
       " 0.96082,\n",
       " 0.11678,\n",
       " -0.36218,\n",
       " -1.4979,\n",
       " -0.062008]"
      ]
     },
     "execution_count": 4,
     "metadata": {},
     "output_type": "execute_result"
    }
   ],
   "source": [
    "word_vectors[word_vectors.keys()[0]]"
   ]
  },
  {
   "cell_type": "code",
   "execution_count": 5,
   "metadata": {
    "collapsed": false
   },
   "outputs": [
    {
     "data": {
      "text/plain": [
       "'the'"
      ]
     },
     "execution_count": 5,
     "metadata": {},
     "output_type": "execute_result"
    }
   ],
   "source": [
    "content[0].split()[0]"
   ]
  },
  {
   "cell_type": "code",
   "execution_count": 20,
   "metadata": {
    "collapsed": false
   },
   "outputs": [],
   "source": [
    "# content is a list of the word vectors, so need to split each line and get the word\n",
    "# w2v = set()\n",
    "word_vectors = defaultdict(list)\n",
    "word_vectors['<UNK>'] = [0 for i in range(50)]\n",
    "for vec in content:\n",
    "    split_vec = vec.split()\n",
    "    num_list = []\n",
    "    for num in split_vec[1:]:\n",
    "        num_list.append(float(num))\n",
    "#     w2v.add((split_vec[0],num_list))\n",
    "    word_vectors[split_vec[0]] = num_list\n",
    "    "
   ]
  },
  {
   "cell_type": "code",
   "execution_count": 22,
   "metadata": {
    "collapsed": false
   },
   "outputs": [
    {
     "data": {
      "text/plain": [
       "collections.defaultdict"
      ]
     },
     "execution_count": 22,
     "metadata": {},
     "output_type": "execute_result"
    }
   ],
   "source": [
    "type(word_vectors)"
   ]
  },
  {
   "cell_type": "code",
   "execution_count": 17,
   "metadata": {
    "collapsed": false
   },
   "outputs": [
    {
     "ename": "TypeError",
     "evalue": "unhashable type: 'list'",
     "output_type": "error",
     "traceback": [
      "\u001b[0;31m---------------------------------------------------------------------------\u001b[0m",
      "\u001b[0;31mTypeError\u001b[0m                                 Traceback (most recent call last)",
      "\u001b[0;32m<ipython-input-17-875825f0b578>\u001b[0m in \u001b[0;36m<module>\u001b[0;34m()\u001b[0m\n\u001b[0;32m----> 1\u001b[0;31m \u001b[0mw2v\u001b[0m\u001b[0;34m.\u001b[0m\u001b[0madd\u001b[0m\u001b[0;34m(\u001b[0m\u001b[0;34m(\u001b[0m\u001b[0;34m'<UNK>'\u001b[0m\u001b[0;34m,\u001b[0m \u001b[0;34m[\u001b[0m\u001b[0;36m0\u001b[0m\u001b[0;34m]\u001b[0m\u001b[0;34m)\u001b[0m\u001b[0;34m)\u001b[0m\u001b[0;34m\u001b[0m\u001b[0m\n\u001b[0m",
      "\u001b[0;31mTypeError\u001b[0m: unhashable type: 'list'"
     ]
    }
   ],
   "source": [
    "w2v.add(('<UNK>', [0]))"
   ]
  },
  {
   "cell_type": "code",
   "execution_count": 18,
   "metadata": {
    "collapsed": false
   },
   "outputs": [
    {
     "data": {
      "text/plain": [
       "{('<UNK>', 0)}"
      ]
     },
     "execution_count": 18,
     "metadata": {},
     "output_type": "execute_result"
    }
   ],
   "source": [
    "w2v"
   ]
  },
  {
   "cell_type": "code",
   "execution_count": null,
   "metadata": {
    "collapsed": true
   },
   "outputs": [],
   "source": []
  }
 ],
 "metadata": {
  "kernelspec": {
   "display_name": "Python 2",
   "language": "python",
   "name": "python2"
  },
  "language_info": {
   "codemirror_mode": {
    "name": "ipython",
    "version": 2
   },
   "file_extension": ".py",
   "mimetype": "text/x-python",
   "name": "python",
   "nbconvert_exporter": "python",
   "pygments_lexer": "ipython2",
   "version": "2.7.11"
  }
 },
 "nbformat": 4,
 "nbformat_minor": 0
}
