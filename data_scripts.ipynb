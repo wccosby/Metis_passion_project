{
 "cells": [
  {
   "cell_type": "code",
   "execution_count": 1,
   "metadata": {
    "collapsed": true
   },
   "outputs": [],
   "source": [
    "import pandas as pd\n",
    "import numpy as np\n",
    "import ast"
   ]
  },
  {
   "cell_type": "code",
   "execution_count": 12,
   "metadata": {
    "collapsed": false
   },
   "outputs": [],
   "source": [
    "with open('data/amazon/qa_Beauty.json', 'rb') as f:\n",
    "    meta_data = f.readlines()\n",
    "for i, row in enumerate(meta_data):\n",
    "    meta_data[i] = ast.literal_eval(str(row))\n",
    "\n",
    "meta_df = pd.DataFrame(meta_data)"
   ]
  },
  {
   "cell_type": "code",
   "execution_count": 14,
   "metadata": {
    "collapsed": false
   },
   "outputs": [
    {
     "data": {
      "text/html": [
       "<div>\n",
       "<table border=\"1\" class=\"dataframe\">\n",
       "  <thead>\n",
       "    <tr style=\"text-align: right;\">\n",
       "      <th></th>\n",
       "      <th>answer</th>\n",
       "      <th>answerTime</th>\n",
       "      <th>answerType</th>\n",
       "      <th>asin</th>\n",
       "      <th>question</th>\n",
       "      <th>questionType</th>\n",
       "      <th>unixTime</th>\n",
       "    </tr>\n",
       "  </thead>\n",
       "  <tbody>\n",
       "    <tr>\n",
       "      <th>0</th>\n",
       "      <td>yes it comes with adjustable dividers, you can...</td>\n",
       "      <td>10 days ago</td>\n",
       "      <td>Y</td>\n",
       "      <td>602260074X</td>\n",
       "      <td>can you fit make up brushes in the trays</td>\n",
       "      <td>yes/no</td>\n",
       "      <td>NaN</td>\n",
       "    </tr>\n",
       "    <tr>\n",
       "      <th>1</th>\n",
       "      <td>yes,all the provided dividers are adjustable</td>\n",
       "      <td>Mar 3, 2015</td>\n",
       "      <td>?</td>\n",
       "      <td>602260074X</td>\n",
       "      <td>Can you move all the dividers?</td>\n",
       "      <td>yes/no</td>\n",
       "      <td>1.425370e+09</td>\n",
       "    </tr>\n",
       "    <tr>\n",
       "      <th>2</th>\n",
       "      <td>Yes</td>\n",
       "      <td>Dec 30, 2014</td>\n",
       "      <td>Y</td>\n",
       "      <td>602260074X</td>\n",
       "      <td>is the surface in side the smooth?</td>\n",
       "      <td>yes/no</td>\n",
       "      <td>1.419926e+09</td>\n",
       "    </tr>\n",
       "    <tr>\n",
       "      <th>3</th>\n",
       "      <td>Hi there, Not too deep. Maybe like an inch dee...</td>\n",
       "      <td>Jul 13, 2014</td>\n",
       "      <td>NaN</td>\n",
       "      <td>602260074X</td>\n",
       "      <td>How deep do the extending trays measure?</td>\n",
       "      <td>open-ended</td>\n",
       "      <td>1.405235e+09</td>\n",
       "    </tr>\n",
       "    <tr>\n",
       "      <th>4</th>\n",
       "      <td>No. We just tried it and it won't.</td>\n",
       "      <td>May 21, 2014</td>\n",
       "      <td>?</td>\n",
       "      <td>602260074X</td>\n",
       "      <td>Can bottles of nail polish stand upright in th...</td>\n",
       "      <td>yes/no</td>\n",
       "      <td>1.400656e+09</td>\n",
       "    </tr>\n",
       "  </tbody>\n",
       "</table>\n",
       "</div>"
      ],
      "text/plain": [
       "                                              answer    answerTime answerType  \\\n",
       "0  yes it comes with adjustable dividers, you can...   10 days ago          Y   \n",
       "1       yes,all the provided dividers are adjustable   Mar 3, 2015          ?   \n",
       "2                                                Yes  Dec 30, 2014          Y   \n",
       "3  Hi there, Not too deep. Maybe like an inch dee...  Jul 13, 2014        NaN   \n",
       "4                 No. We just tried it and it won't.  May 21, 2014          ?   \n",
       "\n",
       "         asin                                           question questionType  \\\n",
       "0  602260074X           can you fit make up brushes in the trays       yes/no   \n",
       "1  602260074X                     Can you move all the dividers?       yes/no   \n",
       "2  602260074X                 is the surface in side the smooth?       yes/no   \n",
       "3  602260074X           How deep do the extending trays measure?   open-ended   \n",
       "4  602260074X  Can bottles of nail polish stand upright in th...       yes/no   \n",
       "\n",
       "       unixTime  \n",
       "0           NaN  \n",
       "1  1.425370e+09  \n",
       "2  1.419926e+09  \n",
       "3  1.405235e+09  \n",
       "4  1.400656e+09  "
      ]
     },
     "execution_count": 14,
     "metadata": {},
     "output_type": "execute_result"
    }
   ],
   "source": [
    "meta_df.head()"
   ]
  },
  {
   "cell_type": "code",
   "execution_count": 2,
   "metadata": {
    "collapsed": false
   },
   "outputs": [],
   "source": [
    "with open('data/amazon/meta_Electronics.json', 'rb') as f:\n",
    "    meta_data = f.readlines()\n",
    "for i, row in enumerate(meta_data):\n",
    "    meta_data[i] = ast.literal_eval(str(row))\n",
    "\n",
    "meta_df = pd.DataFrame(meta_data)"
   ]
  },
  {
   "cell_type": "code",
   "execution_count": 3,
   "metadata": {
    "collapsed": false
   },
   "outputs": [
    {
     "data": {
      "text/html": [
       "<div>\n",
       "<table border=\"1\" class=\"dataframe\">\n",
       "  <thead>\n",
       "    <tr style=\"text-align: right;\">\n",
       "      <th></th>\n",
       "      <th>asin</th>\n",
       "      <th>brand</th>\n",
       "      <th>categories</th>\n",
       "      <th>description</th>\n",
       "      <th>imUrl</th>\n",
       "      <th>price</th>\n",
       "      <th>related</th>\n",
       "      <th>salesRank</th>\n",
       "      <th>title</th>\n",
       "    </tr>\n",
       "  </thead>\n",
       "  <tbody>\n",
       "    <tr>\n",
       "      <th>0</th>\n",
       "      <td>0132793040</td>\n",
       "      <td>NaN</td>\n",
       "      <td>[[Electronics, Computers &amp; Accessories, Cables...</td>\n",
       "      <td>The Kelby Training DVD Mastering Blend Modes i...</td>\n",
       "      <td>http://ecx.images-amazon.com/images/I/31JIPhp%...</td>\n",
       "      <td>NaN</td>\n",
       "      <td>NaN</td>\n",
       "      <td>NaN</td>\n",
       "      <td>Kelby Training DVD: Mastering Blend Modes in A...</td>\n",
       "    </tr>\n",
       "    <tr>\n",
       "      <th>1</th>\n",
       "      <td>0321732944</td>\n",
       "      <td>NaN</td>\n",
       "      <td>[[Electronics, Computers &amp; Accessories, Cables...</td>\n",
       "      <td>NaN</td>\n",
       "      <td>http://ecx.images-amazon.com/images/I/31uogm6Y...</td>\n",
       "      <td>NaN</td>\n",
       "      <td>NaN</td>\n",
       "      <td>NaN</td>\n",
       "      <td>Kelby Training DVD: Adobe Photoshop CS5 Crash ...</td>\n",
       "    </tr>\n",
       "    <tr>\n",
       "      <th>2</th>\n",
       "      <td>0439886341</td>\n",
       "      <td>NaN</td>\n",
       "      <td>[[Electronics, Computers &amp; Accessories, PDAs, ...</td>\n",
       "      <td>Digital Organizer and Messenger</td>\n",
       "      <td>http://ecx.images-amazon.com/images/I/51k0qa8f...</td>\n",
       "      <td>8.15</td>\n",
       "      <td>{u'also_viewed': [u'0545016266', u'B009ECM8QY'...</td>\n",
       "      <td>{u'Electronics': 144944}</td>\n",
       "      <td>Digital Organizer and Messenger</td>\n",
       "    </tr>\n",
       "    <tr>\n",
       "      <th>3</th>\n",
       "      <td>0511189877</td>\n",
       "      <td>NaN</td>\n",
       "      <td>[[Electronics, Accessories &amp; Supplies, Audio &amp;...</td>\n",
       "      <td>The CLIKR-5 UR5U-8780L remote control is desig...</td>\n",
       "      <td>http://ecx.images-amazon.com/images/I/41HaAhbv...</td>\n",
       "      <td>23.36</td>\n",
       "      <td>{u'also_viewed': [u'B001KC08A4', u'B00KUL8O0W'...</td>\n",
       "      <td>NaN</td>\n",
       "      <td>CLIKR-5 Time Warner Cable Remote Control UR5U-...</td>\n",
       "    </tr>\n",
       "    <tr>\n",
       "      <th>4</th>\n",
       "      <td>0528881469</td>\n",
       "      <td>NaN</td>\n",
       "      <td>[[Electronics, GPS &amp; Navigation, Vehicle GPS, ...</td>\n",
       "      <td>Like its award-winning predecessor, the Intell...</td>\n",
       "      <td>http://ecx.images-amazon.com/images/I/51FnRkJq...</td>\n",
       "      <td>299.99</td>\n",
       "      <td>{u'also_viewed': [u'B006ZOI9OY', u'B00C7FKT2A'...</td>\n",
       "      <td>NaN</td>\n",
       "      <td>Rand McNally 528881469 7-inch Intelliroute TND...</td>\n",
       "    </tr>\n",
       "  </tbody>\n",
       "</table>\n",
       "</div>"
      ],
      "text/plain": [
       "         asin brand                                         categories  \\\n",
       "0  0132793040   NaN  [[Electronics, Computers & Accessories, Cables...   \n",
       "1  0321732944   NaN  [[Electronics, Computers & Accessories, Cables...   \n",
       "2  0439886341   NaN  [[Electronics, Computers & Accessories, PDAs, ...   \n",
       "3  0511189877   NaN  [[Electronics, Accessories & Supplies, Audio &...   \n",
       "4  0528881469   NaN  [[Electronics, GPS & Navigation, Vehicle GPS, ...   \n",
       "\n",
       "                                         description  \\\n",
       "0  The Kelby Training DVD Mastering Blend Modes i...   \n",
       "1                                                NaN   \n",
       "2                    Digital Organizer and Messenger   \n",
       "3  The CLIKR-5 UR5U-8780L remote control is desig...   \n",
       "4  Like its award-winning predecessor, the Intell...   \n",
       "\n",
       "                                               imUrl   price  \\\n",
       "0  http://ecx.images-amazon.com/images/I/31JIPhp%...     NaN   \n",
       "1  http://ecx.images-amazon.com/images/I/31uogm6Y...     NaN   \n",
       "2  http://ecx.images-amazon.com/images/I/51k0qa8f...    8.15   \n",
       "3  http://ecx.images-amazon.com/images/I/41HaAhbv...   23.36   \n",
       "4  http://ecx.images-amazon.com/images/I/51FnRkJq...  299.99   \n",
       "\n",
       "                                             related  \\\n",
       "0                                                NaN   \n",
       "1                                                NaN   \n",
       "2  {u'also_viewed': [u'0545016266', u'B009ECM8QY'...   \n",
       "3  {u'also_viewed': [u'B001KC08A4', u'B00KUL8O0W'...   \n",
       "4  {u'also_viewed': [u'B006ZOI9OY', u'B00C7FKT2A'...   \n",
       "\n",
       "                  salesRank                                              title  \n",
       "0                       NaN  Kelby Training DVD: Mastering Blend Modes in A...  \n",
       "1                       NaN  Kelby Training DVD: Adobe Photoshop CS5 Crash ...  \n",
       "2  {u'Electronics': 144944}                    Digital Organizer and Messenger  \n",
       "3                       NaN  CLIKR-5 Time Warner Cable Remote Control UR5U-...  \n",
       "4                       NaN  Rand McNally 528881469 7-inch Intelliroute TND...  "
      ]
     },
     "execution_count": 3,
     "metadata": {},
     "output_type": "execute_result"
    }
   ],
   "source": [
    "meta_df.head()"
   ]
  },
  {
   "cell_type": "code",
   "execution_count": 4,
   "metadata": {
    "collapsed": false
   },
   "outputs": [
    {
     "data": {
      "text/plain": [
       "Index([u'asin', u'brand', u'categories', u'description', u'imUrl', u'price',\n",
       "       u'related', u'salesRank', u'title'],\n",
       "      dtype='object')"
      ]
     },
     "execution_count": 4,
     "metadata": {},
     "output_type": "execute_result"
    }
   ],
   "source": [
    "meta_df.columns"
   ]
  },
  {
   "cell_type": "code",
   "execution_count": 5,
   "metadata": {
    "collapsed": false
   },
   "outputs": [],
   "source": [
    "# drop rows where the description is nan (drops ~50,000 rows)\n",
    "meta_dropped = meta_df[pd.notnull(meta_df['description'])]"
   ]
  },
  {
   "cell_type": "code",
   "execution_count": 6,
   "metadata": {
    "collapsed": false
   },
   "outputs": [
    {
     "data": {
      "text/html": [
       "<div>\n",
       "<table border=\"1\" class=\"dataframe\">\n",
       "  <thead>\n",
       "    <tr style=\"text-align: right;\">\n",
       "      <th></th>\n",
       "      <th>asin</th>\n",
       "      <th>brand</th>\n",
       "      <th>categories</th>\n",
       "      <th>description</th>\n",
       "      <th>imUrl</th>\n",
       "      <th>price</th>\n",
       "      <th>related</th>\n",
       "      <th>salesRank</th>\n",
       "      <th>title</th>\n",
       "    </tr>\n",
       "  </thead>\n",
       "  <tbody>\n",
       "    <tr>\n",
       "      <th>0</th>\n",
       "      <td>0132793040</td>\n",
       "      <td>NaN</td>\n",
       "      <td>[[Electronics, Computers &amp; Accessories, Cables...</td>\n",
       "      <td>The Kelby Training DVD Mastering Blend Modes i...</td>\n",
       "      <td>http://ecx.images-amazon.com/images/I/31JIPhp%...</td>\n",
       "      <td>NaN</td>\n",
       "      <td>NaN</td>\n",
       "      <td>NaN</td>\n",
       "      <td>Kelby Training DVD: Mastering Blend Modes in A...</td>\n",
       "    </tr>\n",
       "    <tr>\n",
       "      <th>2</th>\n",
       "      <td>0439886341</td>\n",
       "      <td>NaN</td>\n",
       "      <td>[[Electronics, Computers &amp; Accessories, PDAs, ...</td>\n",
       "      <td>Digital Organizer and Messenger</td>\n",
       "      <td>http://ecx.images-amazon.com/images/I/51k0qa8f...</td>\n",
       "      <td>8.15</td>\n",
       "      <td>{u'also_viewed': [u'0545016266', u'B009ECM8QY'...</td>\n",
       "      <td>{u'Electronics': 144944}</td>\n",
       "      <td>Digital Organizer and Messenger</td>\n",
       "    </tr>\n",
       "    <tr>\n",
       "      <th>3</th>\n",
       "      <td>0511189877</td>\n",
       "      <td>NaN</td>\n",
       "      <td>[[Electronics, Accessories &amp; Supplies, Audio &amp;...</td>\n",
       "      <td>The CLIKR-5 UR5U-8780L remote control is desig...</td>\n",
       "      <td>http://ecx.images-amazon.com/images/I/41HaAhbv...</td>\n",
       "      <td>23.36</td>\n",
       "      <td>{u'also_viewed': [u'B001KC08A4', u'B00KUL8O0W'...</td>\n",
       "      <td>NaN</td>\n",
       "      <td>CLIKR-5 Time Warner Cable Remote Control UR5U-...</td>\n",
       "    </tr>\n",
       "    <tr>\n",
       "      <th>4</th>\n",
       "      <td>0528881469</td>\n",
       "      <td>NaN</td>\n",
       "      <td>[[Electronics, GPS &amp; Navigation, Vehicle GPS, ...</td>\n",
       "      <td>Like its award-winning predecessor, the Intell...</td>\n",
       "      <td>http://ecx.images-amazon.com/images/I/51FnRkJq...</td>\n",
       "      <td>299.99</td>\n",
       "      <td>{u'also_viewed': [u'B006ZOI9OY', u'B00C7FKT2A'...</td>\n",
       "      <td>NaN</td>\n",
       "      <td>Rand McNally 528881469 7-inch Intelliroute TND...</td>\n",
       "    </tr>\n",
       "    <tr>\n",
       "      <th>5</th>\n",
       "      <td>0558835155</td>\n",
       "      <td>NaN</td>\n",
       "      <td>[[Electronics, Accessories &amp; Supplies, Audio &amp;...</td>\n",
       "      <td>Use these high quality headphones for internet...</td>\n",
       "      <td>http://ecx.images-amazon.com/images/I/21rEirnd...</td>\n",
       "      <td>13.95</td>\n",
       "      <td>NaN</td>\n",
       "      <td>NaN</td>\n",
       "      <td>Polaroid Pbm2200 PC / Gaming Stereo Headphones...</td>\n",
       "    </tr>\n",
       "  </tbody>\n",
       "</table>\n",
       "</div>"
      ],
      "text/plain": [
       "         asin brand                                         categories  \\\n",
       "0  0132793040   NaN  [[Electronics, Computers & Accessories, Cables...   \n",
       "2  0439886341   NaN  [[Electronics, Computers & Accessories, PDAs, ...   \n",
       "3  0511189877   NaN  [[Electronics, Accessories & Supplies, Audio &...   \n",
       "4  0528881469   NaN  [[Electronics, GPS & Navigation, Vehicle GPS, ...   \n",
       "5  0558835155   NaN  [[Electronics, Accessories & Supplies, Audio &...   \n",
       "\n",
       "                                         description  \\\n",
       "0  The Kelby Training DVD Mastering Blend Modes i...   \n",
       "2                    Digital Organizer and Messenger   \n",
       "3  The CLIKR-5 UR5U-8780L remote control is desig...   \n",
       "4  Like its award-winning predecessor, the Intell...   \n",
       "5  Use these high quality headphones for internet...   \n",
       "\n",
       "                                               imUrl   price  \\\n",
       "0  http://ecx.images-amazon.com/images/I/31JIPhp%...     NaN   \n",
       "2  http://ecx.images-amazon.com/images/I/51k0qa8f...    8.15   \n",
       "3  http://ecx.images-amazon.com/images/I/41HaAhbv...   23.36   \n",
       "4  http://ecx.images-amazon.com/images/I/51FnRkJq...  299.99   \n",
       "5  http://ecx.images-amazon.com/images/I/21rEirnd...   13.95   \n",
       "\n",
       "                                             related  \\\n",
       "0                                                NaN   \n",
       "2  {u'also_viewed': [u'0545016266', u'B009ECM8QY'...   \n",
       "3  {u'also_viewed': [u'B001KC08A4', u'B00KUL8O0W'...   \n",
       "4  {u'also_viewed': [u'B006ZOI9OY', u'B00C7FKT2A'...   \n",
       "5                                                NaN   \n",
       "\n",
       "                  salesRank                                              title  \n",
       "0                       NaN  Kelby Training DVD: Mastering Blend Modes in A...  \n",
       "2  {u'Electronics': 144944}                    Digital Organizer and Messenger  \n",
       "3                       NaN  CLIKR-5 Time Warner Cable Remote Control UR5U-...  \n",
       "4                       NaN  Rand McNally 528881469 7-inch Intelliroute TND...  \n",
       "5                       NaN  Polaroid Pbm2200 PC / Gaming Stereo Headphones...  "
      ]
     },
     "execution_count": 6,
     "metadata": {},
     "output_type": "execute_result"
    }
   ],
   "source": [
    "meta_dropped.head()"
   ]
  },
  {
   "cell_type": "code",
   "execution_count": 7,
   "metadata": {
    "collapsed": false
   },
   "outputs": [
    {
     "data": {
      "text/plain": [
       "(459470, 9)"
      ]
     },
     "execution_count": 7,
     "metadata": {},
     "output_type": "execute_result"
    }
   ],
   "source": [
    "meta_dropped.shape"
   ]
  },
  {
   "cell_type": "code",
   "execution_count": 8,
   "metadata": {
    "collapsed": false
   },
   "outputs": [
    {
     "data": {
      "text/plain": [
       "(498196, 9)"
      ]
     },
     "execution_count": 8,
     "metadata": {},
     "output_type": "execute_result"
    }
   ],
   "source": [
    "meta_df.shape"
   ]
  },
  {
   "cell_type": "code",
   "execution_count": 9,
   "metadata": {
    "collapsed": false
   },
   "outputs": [
    {
     "name": "stderr",
     "output_type": "stream",
     "text": [
      "/Users/williamcosby/anaconda/lib/python2.7/site-packages/ipykernel/__main__.py:2: SettingWithCopyWarning: \n",
      "A value is trying to be set on a copy of a slice from a DataFrame\n",
      "\n",
      "See the caveats in the documentation: http://pandas.pydata.org/pandas-docs/stable/indexing.html#indexing-view-versus-copy\n",
      "  from ipykernel import kernelapp as app\n"
     ]
    }
   ],
   "source": [
    "# drop columns i dont need image url and salesrank\n",
    "meta_dropped.drop(['imUrl','salesRank','related'],axis=1,inplace=True);"
   ]
  },
  {
   "cell_type": "code",
   "execution_count": 10,
   "metadata": {
    "collapsed": false
   },
   "outputs": [
    {
     "data": {
      "text/html": [
       "<div>\n",
       "<table border=\"1\" class=\"dataframe\">\n",
       "  <thead>\n",
       "    <tr style=\"text-align: right;\">\n",
       "      <th></th>\n",
       "      <th>asin</th>\n",
       "      <th>brand</th>\n",
       "      <th>categories</th>\n",
       "      <th>description</th>\n",
       "      <th>price</th>\n",
       "      <th>title</th>\n",
       "    </tr>\n",
       "  </thead>\n",
       "  <tbody>\n",
       "    <tr>\n",
       "      <th>0</th>\n",
       "      <td>0132793040</td>\n",
       "      <td>NaN</td>\n",
       "      <td>[[Electronics, Computers &amp; Accessories, Cables...</td>\n",
       "      <td>The Kelby Training DVD Mastering Blend Modes i...</td>\n",
       "      <td>NaN</td>\n",
       "      <td>Kelby Training DVD: Mastering Blend Modes in A...</td>\n",
       "    </tr>\n",
       "    <tr>\n",
       "      <th>2</th>\n",
       "      <td>0439886341</td>\n",
       "      <td>NaN</td>\n",
       "      <td>[[Electronics, Computers &amp; Accessories, PDAs, ...</td>\n",
       "      <td>Digital Organizer and Messenger</td>\n",
       "      <td>8.15</td>\n",
       "      <td>Digital Organizer and Messenger</td>\n",
       "    </tr>\n",
       "    <tr>\n",
       "      <th>3</th>\n",
       "      <td>0511189877</td>\n",
       "      <td>NaN</td>\n",
       "      <td>[[Electronics, Accessories &amp; Supplies, Audio &amp;...</td>\n",
       "      <td>The CLIKR-5 UR5U-8780L remote control is desig...</td>\n",
       "      <td>23.36</td>\n",
       "      <td>CLIKR-5 Time Warner Cable Remote Control UR5U-...</td>\n",
       "    </tr>\n",
       "    <tr>\n",
       "      <th>4</th>\n",
       "      <td>0528881469</td>\n",
       "      <td>NaN</td>\n",
       "      <td>[[Electronics, GPS &amp; Navigation, Vehicle GPS, ...</td>\n",
       "      <td>Like its award-winning predecessor, the Intell...</td>\n",
       "      <td>299.99</td>\n",
       "      <td>Rand McNally 528881469 7-inch Intelliroute TND...</td>\n",
       "    </tr>\n",
       "    <tr>\n",
       "      <th>5</th>\n",
       "      <td>0558835155</td>\n",
       "      <td>NaN</td>\n",
       "      <td>[[Electronics, Accessories &amp; Supplies, Audio &amp;...</td>\n",
       "      <td>Use these high quality headphones for internet...</td>\n",
       "      <td>13.95</td>\n",
       "      <td>Polaroid Pbm2200 PC / Gaming Stereo Headphones...</td>\n",
       "    </tr>\n",
       "  </tbody>\n",
       "</table>\n",
       "</div>"
      ],
      "text/plain": [
       "         asin brand                                         categories  \\\n",
       "0  0132793040   NaN  [[Electronics, Computers & Accessories, Cables...   \n",
       "2  0439886341   NaN  [[Electronics, Computers & Accessories, PDAs, ...   \n",
       "3  0511189877   NaN  [[Electronics, Accessories & Supplies, Audio &...   \n",
       "4  0528881469   NaN  [[Electronics, GPS & Navigation, Vehicle GPS, ...   \n",
       "5  0558835155   NaN  [[Electronics, Accessories & Supplies, Audio &...   \n",
       "\n",
       "                                         description   price  \\\n",
       "0  The Kelby Training DVD Mastering Blend Modes i...     NaN   \n",
       "2                    Digital Organizer and Messenger    8.15   \n",
       "3  The CLIKR-5 UR5U-8780L remote control is desig...   23.36   \n",
       "4  Like its award-winning predecessor, the Intell...  299.99   \n",
       "5  Use these high quality headphones for internet...   13.95   \n",
       "\n",
       "                                               title  \n",
       "0  Kelby Training DVD: Mastering Blend Modes in A...  \n",
       "2                    Digital Organizer and Messenger  \n",
       "3  CLIKR-5 Time Warner Cable Remote Control UR5U-...  \n",
       "4  Rand McNally 528881469 7-inch Intelliroute TND...  \n",
       "5  Polaroid Pbm2200 PC / Gaming Stereo Headphones...  "
      ]
     },
     "execution_count": 10,
     "metadata": {},
     "output_type": "execute_result"
    }
   ],
   "source": [
    "meta_dropped.head()"
   ]
  },
  {
   "cell_type": "markdown",
   "metadata": {},
   "source": [
    "# load the qa_Electronics dataset"
   ]
  },
  {
   "cell_type": "code",
   "execution_count": 11,
   "metadata": {
    "collapsed": true
   },
   "outputs": [],
   "source": [
    "with open('data/amazon/qa_Electronics.json', 'rb') as f:\n",
    "    qa_data = f.readlines()\n",
    "for i, row in enumerate(qa_data):\n",
    "    qa_data[i] = ast.literal_eval(str(row))\n",
    "\n",
    "qa_df = pd.DataFrame(qa_data)"
   ]
  },
  {
   "cell_type": "code",
   "execution_count": 12,
   "metadata": {
    "collapsed": false
   },
   "outputs": [
    {
     "data": {
      "text/html": [
       "<div>\n",
       "<table border=\"1\" class=\"dataframe\">\n",
       "  <thead>\n",
       "    <tr style=\"text-align: right;\">\n",
       "      <th></th>\n",
       "      <th>answer</th>\n",
       "      <th>answerTime</th>\n",
       "      <th>answerType</th>\n",
       "      <th>asin</th>\n",
       "      <th>question</th>\n",
       "      <th>questionType</th>\n",
       "      <th>unixTime</th>\n",
       "    </tr>\n",
       "  </thead>\n",
       "  <tbody>\n",
       "    <tr>\n",
       "      <th>0</th>\n",
       "      <td>Yes this fits both the nook color and the same...</td>\n",
       "      <td>Dec 27, 2013</td>\n",
       "      <td>Y</td>\n",
       "      <td>0594033926</td>\n",
       "      <td>Is this cover the one that fits the old nook c...</td>\n",
       "      <td>yes/no</td>\n",
       "      <td>1.388131e+09</td>\n",
       "    </tr>\n",
       "    <tr>\n",
       "      <th>1</th>\n",
       "      <td>No. The nook color or color tablet</td>\n",
       "      <td>Jan 5, 2015</td>\n",
       "      <td>N</td>\n",
       "      <td>0594033926</td>\n",
       "      <td>Does it fit Nook GlowLight?</td>\n",
       "      <td>yes/no</td>\n",
       "      <td>1.420445e+09</td>\n",
       "    </tr>\n",
       "    <tr>\n",
       "      <th>2</th>\n",
       "      <td>I don't think so. The nook color is 5 x 8 so n...</td>\n",
       "      <td>2 days ago</td>\n",
       "      <td>NaN</td>\n",
       "      <td>0594033926</td>\n",
       "      <td>Would it fit Nook 1st Edition? 4.9in x 7.7in ?</td>\n",
       "      <td>open-ended</td>\n",
       "      <td>NaN</td>\n",
       "    </tr>\n",
       "    <tr>\n",
       "      <th>3</th>\n",
       "      <td>yes</td>\n",
       "      <td>17 days ago</td>\n",
       "      <td>Y</td>\n",
       "      <td>0594033926</td>\n",
       "      <td>Will this fit a Nook Color that's 5 x 8?</td>\n",
       "      <td>yes/no</td>\n",
       "      <td>NaN</td>\n",
       "    </tr>\n",
       "    <tr>\n",
       "      <th>4</th>\n",
       "      <td>No, the tab is smaller than the 'color'</td>\n",
       "      <td>Feb 10, 2015</td>\n",
       "      <td>N</td>\n",
       "      <td>0594033926</td>\n",
       "      <td>will this fit the Samsung Galaxy Tab 4 Nook 10.1</td>\n",
       "      <td>yes/no</td>\n",
       "      <td>1.423555e+09</td>\n",
       "    </tr>\n",
       "  </tbody>\n",
       "</table>\n",
       "</div>"
      ],
      "text/plain": [
       "                                              answer    answerTime answerType  \\\n",
       "0  Yes this fits both the nook color and the same...  Dec 27, 2013          Y   \n",
       "1                 No. The nook color or color tablet   Jan 5, 2015          N   \n",
       "2  I don't think so. The nook color is 5 x 8 so n...    2 days ago        NaN   \n",
       "3                                                yes   17 days ago          Y   \n",
       "4            No, the tab is smaller than the 'color'  Feb 10, 2015          N   \n",
       "\n",
       "         asin                                           question questionType  \\\n",
       "0  0594033926  Is this cover the one that fits the old nook c...       yes/no   \n",
       "1  0594033926                        Does it fit Nook GlowLight?       yes/no   \n",
       "2  0594033926     Would it fit Nook 1st Edition? 4.9in x 7.7in ?   open-ended   \n",
       "3  0594033926           Will this fit a Nook Color that's 5 x 8?       yes/no   \n",
       "4  0594033926   will this fit the Samsung Galaxy Tab 4 Nook 10.1       yes/no   \n",
       "\n",
       "       unixTime  \n",
       "0  1.388131e+09  \n",
       "1  1.420445e+09  \n",
       "2           NaN  \n",
       "3           NaN  \n",
       "4  1.423555e+09  "
      ]
     },
     "execution_count": 12,
     "metadata": {},
     "output_type": "execute_result"
    }
   ],
   "source": [
    "qa_df.head()"
   ]
  },
  {
   "cell_type": "code",
   "execution_count": 13,
   "metadata": {
    "collapsed": false
   },
   "outputs": [
    {
     "name": "stdout",
     "output_type": "stream",
     "text": [
      "<class 'pandas.core.frame.DataFrame'>\n",
      "RangeIndex: 314263 entries, 0 to 314262\n",
      "Data columns (total 7 columns):\n",
      "answer          314263 non-null object\n",
      "answerTime      314263 non-null object\n",
      "answerType      165598 non-null object\n",
      "asin            314263 non-null object\n",
      "question        314263 non-null object\n",
      "questionType    314263 non-null object\n",
      "unixTime        304873 non-null float64\n",
      "dtypes: float64(1), object(6)\n",
      "memory usage: 16.8+ MB\n"
     ]
    }
   ],
   "source": [
    "qa_df.info()"
   ]
  },
  {
   "cell_type": "markdown",
   "metadata": {},
   "source": [
    "# use data with a question type = y/n for initial work"
   ]
  },
  {
   "cell_type": "code",
   "execution_count": 14,
   "metadata": {
    "collapsed": false
   },
   "outputs": [
    {
     "data": {
      "text/plain": [
       "array(['yes/no', 'open-ended'], dtype=object)"
      ]
     },
     "execution_count": 14,
     "metadata": {},
     "output_type": "execute_result"
    }
   ],
   "source": [
    "qa_df['questionType'].unique()"
   ]
  },
  {
   "cell_type": "code",
   "execution_count": 15,
   "metadata": {
    "collapsed": true
   },
   "outputs": [],
   "source": [
    "yes_no_df = qa_df[qa_df['questionType'] == 'yes/no']"
   ]
  },
  {
   "cell_type": "code",
   "execution_count": 16,
   "metadata": {
    "collapsed": false
   },
   "outputs": [
    {
     "name": "stdout",
     "output_type": "stream",
     "text": [
      "<class 'pandas.core.frame.DataFrame'>\n",
      "Int64Index: 165598 entries, 0 to 314262\n",
      "Data columns (total 7 columns):\n",
      "answer          165598 non-null object\n",
      "answerTime      165598 non-null object\n",
      "answerType      165598 non-null object\n",
      "asin            165598 non-null object\n",
      "question        165598 non-null object\n",
      "questionType    165598 non-null object\n",
      "unixTime        160061 non-null float64\n",
      "dtypes: float64(1), object(6)\n",
      "memory usage: 10.1+ MB\n"
     ]
    }
   ],
   "source": [
    "yes_no_df.info()"
   ]
  },
  {
   "cell_type": "code",
   "execution_count": 17,
   "metadata": {
    "collapsed": false
   },
   "outputs": [
    {
     "name": "stderr",
     "output_type": "stream",
     "text": [
      "/Users/williamcosby/anaconda/lib/python2.7/site-packages/ipykernel/__main__.py:2: SettingWithCopyWarning: \n",
      "A value is trying to be set on a copy of a slice from a DataFrame\n",
      "\n",
      "See the caveats in the documentation: http://pandas.pydata.org/pandas-docs/stable/indexing.html#indexing-view-versus-copy\n",
      "  from ipykernel import kernelapp as app\n"
     ]
    }
   ],
   "source": [
    "# drop unixTime since we don't need it at all\n",
    "yes_no_df.drop('unixTime',axis=1, inplace=True)"
   ]
  },
  {
   "cell_type": "code",
   "execution_count": 18,
   "metadata": {
    "collapsed": false
   },
   "outputs": [
    {
     "name": "stdout",
     "output_type": "stream",
     "text": [
      "<class 'pandas.core.frame.DataFrame'>\n",
      "Int64Index: 165598 entries, 0 to 314262\n",
      "Data columns (total 6 columns):\n",
      "answer          165598 non-null object\n",
      "answerTime      165598 non-null object\n",
      "answerType      165598 non-null object\n",
      "asin            165598 non-null object\n",
      "question        165598 non-null object\n",
      "questionType    165598 non-null object\n",
      "dtypes: object(6)\n",
      "memory usage: 8.8+ MB\n"
     ]
    }
   ],
   "source": [
    "yes_no_df.info()"
   ]
  },
  {
   "cell_type": "markdown",
   "metadata": {},
   "source": [
    "# Now merge this qa data set with the meta_data dataset"
   ]
  },
  {
   "cell_type": "code",
   "execution_count": 19,
   "metadata": {
    "collapsed": true
   },
   "outputs": [],
   "source": [
    "# yn_data is the fully combined data for yes/no question answering\n",
    "yn_data = pd.merge(yes_no_df,meta_dropped, on='asin')"
   ]
  },
  {
   "cell_type": "code",
   "execution_count": 20,
   "metadata": {
    "collapsed": false
   },
   "outputs": [
    {
     "name": "stdout",
     "output_type": "stream",
     "text": [
      "<class 'pandas.core.frame.DataFrame'>\n",
      "Int64Index: 163430 entries, 0 to 163429\n",
      "Data columns (total 11 columns):\n",
      "answer          163430 non-null object\n",
      "answerTime      163430 non-null object\n",
      "answerType      163430 non-null object\n",
      "asin            163430 non-null object\n",
      "question        163430 non-null object\n",
      "questionType    163430 non-null object\n",
      "brand           97705 non-null object\n",
      "categories      163430 non-null object\n",
      "description     163430 non-null object\n",
      "price           157930 non-null float64\n",
      "title           162602 non-null object\n",
      "dtypes: float64(1), object(10)\n",
      "memory usage: 15.0+ MB\n"
     ]
    }
   ],
   "source": [
    "yn_data.info()"
   ]
  },
  {
   "cell_type": "code",
   "execution_count": 21,
   "metadata": {
    "collapsed": false
   },
   "outputs": [
    {
     "data": {
      "text/html": [
       "<div>\n",
       "<table border=\"1\" class=\"dataframe\">\n",
       "  <thead>\n",
       "    <tr style=\"text-align: right;\">\n",
       "      <th></th>\n",
       "      <th>answer</th>\n",
       "      <th>answerTime</th>\n",
       "      <th>answerType</th>\n",
       "      <th>asin</th>\n",
       "      <th>question</th>\n",
       "      <th>questionType</th>\n",
       "      <th>brand</th>\n",
       "      <th>categories</th>\n",
       "      <th>description</th>\n",
       "      <th>price</th>\n",
       "      <th>title</th>\n",
       "    </tr>\n",
       "  </thead>\n",
       "  <tbody>\n",
       "    <tr>\n",
       "      <th>0</th>\n",
       "      <td>Yes this fits both the nook color and the same...</td>\n",
       "      <td>Dec 27, 2013</td>\n",
       "      <td>Y</td>\n",
       "      <td>0594033926</td>\n",
       "      <td>Is this cover the one that fits the old nook c...</td>\n",
       "      <td>yes/no</td>\n",
       "      <td>Barnes &amp;amp; Noble</td>\n",
       "      <td>[[Electronics, eBook Readers &amp; Accessories, Co...</td>\n",
       "      <td>The Dessin Cover in Noir for Nook Tablet helps...</td>\n",
       "      <td>9.99</td>\n",
       "      <td>Barnes &amp;amp; Noble Dessin Leather Cover for No...</td>\n",
       "    </tr>\n",
       "    <tr>\n",
       "      <th>1</th>\n",
       "      <td>No. The nook color or color tablet</td>\n",
       "      <td>Jan 5, 2015</td>\n",
       "      <td>N</td>\n",
       "      <td>0594033926</td>\n",
       "      <td>Does it fit Nook GlowLight?</td>\n",
       "      <td>yes/no</td>\n",
       "      <td>Barnes &amp;amp; Noble</td>\n",
       "      <td>[[Electronics, eBook Readers &amp; Accessories, Co...</td>\n",
       "      <td>The Dessin Cover in Noir for Nook Tablet helps...</td>\n",
       "      <td>9.99</td>\n",
       "      <td>Barnes &amp;amp; Noble Dessin Leather Cover for No...</td>\n",
       "    </tr>\n",
       "    <tr>\n",
       "      <th>2</th>\n",
       "      <td>yes</td>\n",
       "      <td>17 days ago</td>\n",
       "      <td>Y</td>\n",
       "      <td>0594033926</td>\n",
       "      <td>Will this fit a Nook Color that's 5 x 8?</td>\n",
       "      <td>yes/no</td>\n",
       "      <td>Barnes &amp;amp; Noble</td>\n",
       "      <td>[[Electronics, eBook Readers &amp; Accessories, Co...</td>\n",
       "      <td>The Dessin Cover in Noir for Nook Tablet helps...</td>\n",
       "      <td>9.99</td>\n",
       "      <td>Barnes &amp;amp; Noble Dessin Leather Cover for No...</td>\n",
       "    </tr>\n",
       "    <tr>\n",
       "      <th>3</th>\n",
       "      <td>No, the tab is smaller than the 'color'</td>\n",
       "      <td>Feb 10, 2015</td>\n",
       "      <td>N</td>\n",
       "      <td>0594033926</td>\n",
       "      <td>will this fit the Samsung Galaxy Tab 4 Nook 10.1</td>\n",
       "      <td>yes/no</td>\n",
       "      <td>Barnes &amp;amp; Noble</td>\n",
       "      <td>[[Electronics, eBook Readers &amp; Accessories, Co...</td>\n",
       "      <td>The Dessin Cover in Noir for Nook Tablet helps...</td>\n",
       "      <td>9.99</td>\n",
       "      <td>Barnes &amp;amp; Noble Dessin Leather Cover for No...</td>\n",
       "    </tr>\n",
       "    <tr>\n",
       "      <th>4</th>\n",
       "      <td>No, there is not a flip stand. It has a pocket...</td>\n",
       "      <td>Jan 30, 2015</td>\n",
       "      <td>N</td>\n",
       "      <td>0594033926</td>\n",
       "      <td>does it have a flip stand?</td>\n",
       "      <td>yes/no</td>\n",
       "      <td>Barnes &amp;amp; Noble</td>\n",
       "      <td>[[Electronics, eBook Readers &amp; Accessories, Co...</td>\n",
       "      <td>The Dessin Cover in Noir for Nook Tablet helps...</td>\n",
       "      <td>9.99</td>\n",
       "      <td>Barnes &amp;amp; Noble Dessin Leather Cover for No...</td>\n",
       "    </tr>\n",
       "  </tbody>\n",
       "</table>\n",
       "</div>"
      ],
      "text/plain": [
       "                                              answer    answerTime answerType  \\\n",
       "0  Yes this fits both the nook color and the same...  Dec 27, 2013          Y   \n",
       "1                 No. The nook color or color tablet   Jan 5, 2015          N   \n",
       "2                                                yes   17 days ago          Y   \n",
       "3            No, the tab is smaller than the 'color'  Feb 10, 2015          N   \n",
       "4  No, there is not a flip stand. It has a pocket...  Jan 30, 2015          N   \n",
       "\n",
       "         asin                                           question questionType  \\\n",
       "0  0594033926  Is this cover the one that fits the old nook c...       yes/no   \n",
       "1  0594033926                        Does it fit Nook GlowLight?       yes/no   \n",
       "2  0594033926           Will this fit a Nook Color that's 5 x 8?       yes/no   \n",
       "3  0594033926   will this fit the Samsung Galaxy Tab 4 Nook 10.1       yes/no   \n",
       "4  0594033926                         does it have a flip stand?       yes/no   \n",
       "\n",
       "                brand                                         categories  \\\n",
       "0  Barnes &amp; Noble  [[Electronics, eBook Readers & Accessories, Co...   \n",
       "1  Barnes &amp; Noble  [[Electronics, eBook Readers & Accessories, Co...   \n",
       "2  Barnes &amp; Noble  [[Electronics, eBook Readers & Accessories, Co...   \n",
       "3  Barnes &amp; Noble  [[Electronics, eBook Readers & Accessories, Co...   \n",
       "4  Barnes &amp; Noble  [[Electronics, eBook Readers & Accessories, Co...   \n",
       "\n",
       "                                         description  price  \\\n",
       "0  The Dessin Cover in Noir for Nook Tablet helps...   9.99   \n",
       "1  The Dessin Cover in Noir for Nook Tablet helps...   9.99   \n",
       "2  The Dessin Cover in Noir for Nook Tablet helps...   9.99   \n",
       "3  The Dessin Cover in Noir for Nook Tablet helps...   9.99   \n",
       "4  The Dessin Cover in Noir for Nook Tablet helps...   9.99   \n",
       "\n",
       "                                               title  \n",
       "0  Barnes &amp; Noble Dessin Leather Cover for No...  \n",
       "1  Barnes &amp; Noble Dessin Leather Cover for No...  \n",
       "2  Barnes &amp; Noble Dessin Leather Cover for No...  \n",
       "3  Barnes &amp; Noble Dessin Leather Cover for No...  \n",
       "4  Barnes &amp; Noble Dessin Leather Cover for No...  "
      ]
     },
     "execution_count": 21,
     "metadata": {},
     "output_type": "execute_result"
    }
   ],
   "source": [
    "yn_data.head()"
   ]
  },
  {
   "cell_type": "markdown",
   "metadata": {},
   "source": [
    "# for the yes/no questions just get the data in the format with the description, and other information as the story and the question as the question\n",
    "\n",
    "### will need to figure out how to deal with situations where the answer to the question is not in the description\n",
    "* for each asin (each item) \n",
    "    * put all of the answers into the description?\n",
    "    * put all of the questions into the story (don't think this would be a good idea as it would probs overfit like crazy\n",
    "\n",
    "### So for every item:\n",
    "* we want the description to be the same \n",
    "* need:\n",
    "    * question (will hopefully have multiple for each item)\n",
    "    * answer (will hopefully have same as the number of questions)\n",
    "    * description (1 consistent description)\n",
    "        * Actually product description\n",
    "        * brand\n",
    "        * categories?\n",
    "        * title\n",
    "        * (any other data we can include??)\n",
    "   "
   ]
  },
  {
   "cell_type": "code",
   "execution_count": 86,
   "metadata": {
    "collapsed": false
   },
   "outputs": [],
   "source": [
    "amazon_qas = yn_data[['asin','answerType','answer','question','description','title']]"
   ]
  },
  {
   "cell_type": "code",
   "execution_count": 87,
   "metadata": {
    "collapsed": false
   },
   "outputs": [
    {
     "data": {
      "text/html": [
       "<div>\n",
       "<table border=\"1\" class=\"dataframe\">\n",
       "  <thead>\n",
       "    <tr style=\"text-align: right;\">\n",
       "      <th></th>\n",
       "      <th>asin</th>\n",
       "      <th>answerType</th>\n",
       "      <th>answer</th>\n",
       "      <th>question</th>\n",
       "      <th>description</th>\n",
       "      <th>title</th>\n",
       "    </tr>\n",
       "  </thead>\n",
       "  <tbody>\n",
       "    <tr>\n",
       "      <th>0</th>\n",
       "      <td>0594033926</td>\n",
       "      <td>Y</td>\n",
       "      <td>Yes this fits both the nook color and the same...</td>\n",
       "      <td>Is this cover the one that fits the old nook c...</td>\n",
       "      <td>The Dessin Cover in Noir for Nook Tablet helps...</td>\n",
       "      <td>Barnes &amp;amp; Noble Dessin Leather Cover for No...</td>\n",
       "    </tr>\n",
       "    <tr>\n",
       "      <th>1</th>\n",
       "      <td>0594033926</td>\n",
       "      <td>N</td>\n",
       "      <td>No. The nook color or color tablet</td>\n",
       "      <td>Does it fit Nook GlowLight?</td>\n",
       "      <td>The Dessin Cover in Noir for Nook Tablet helps...</td>\n",
       "      <td>Barnes &amp;amp; Noble Dessin Leather Cover for No...</td>\n",
       "    </tr>\n",
       "    <tr>\n",
       "      <th>2</th>\n",
       "      <td>0594033926</td>\n",
       "      <td>Y</td>\n",
       "      <td>yes</td>\n",
       "      <td>Will this fit a Nook Color that's 5 x 8?</td>\n",
       "      <td>The Dessin Cover in Noir for Nook Tablet helps...</td>\n",
       "      <td>Barnes &amp;amp; Noble Dessin Leather Cover for No...</td>\n",
       "    </tr>\n",
       "    <tr>\n",
       "      <th>3</th>\n",
       "      <td>0594033926</td>\n",
       "      <td>N</td>\n",
       "      <td>No, the tab is smaller than the 'color'</td>\n",
       "      <td>will this fit the Samsung Galaxy Tab 4 Nook 10.1</td>\n",
       "      <td>The Dessin Cover in Noir for Nook Tablet helps...</td>\n",
       "      <td>Barnes &amp;amp; Noble Dessin Leather Cover for No...</td>\n",
       "    </tr>\n",
       "    <tr>\n",
       "      <th>4</th>\n",
       "      <td>0594033926</td>\n",
       "      <td>N</td>\n",
       "      <td>No, there is not a flip stand. It has a pocket...</td>\n",
       "      <td>does it have a flip stand?</td>\n",
       "      <td>The Dessin Cover in Noir for Nook Tablet helps...</td>\n",
       "      <td>Barnes &amp;amp; Noble Dessin Leather Cover for No...</td>\n",
       "    </tr>\n",
       "  </tbody>\n",
       "</table>\n",
       "</div>"
      ],
      "text/plain": [
       "         asin answerType                                             answer  \\\n",
       "0  0594033926          Y  Yes this fits both the nook color and the same...   \n",
       "1  0594033926          N                 No. The nook color or color tablet   \n",
       "2  0594033926          Y                                                yes   \n",
       "3  0594033926          N            No, the tab is smaller than the 'color'   \n",
       "4  0594033926          N  No, there is not a flip stand. It has a pocket...   \n",
       "\n",
       "                                            question  \\\n",
       "0  Is this cover the one that fits the old nook c...   \n",
       "1                        Does it fit Nook GlowLight?   \n",
       "2           Will this fit a Nook Color that's 5 x 8?   \n",
       "3   will this fit the Samsung Galaxy Tab 4 Nook 10.1   \n",
       "4                         does it have a flip stand?   \n",
       "\n",
       "                                         description  \\\n",
       "0  The Dessin Cover in Noir for Nook Tablet helps...   \n",
       "1  The Dessin Cover in Noir for Nook Tablet helps...   \n",
       "2  The Dessin Cover in Noir for Nook Tablet helps...   \n",
       "3  The Dessin Cover in Noir for Nook Tablet helps...   \n",
       "4  The Dessin Cover in Noir for Nook Tablet helps...   \n",
       "\n",
       "                                               title  \n",
       "0  Barnes &amp; Noble Dessin Leather Cover for No...  \n",
       "1  Barnes &amp; Noble Dessin Leather Cover for No...  \n",
       "2  Barnes &amp; Noble Dessin Leather Cover for No...  \n",
       "3  Barnes &amp; Noble Dessin Leather Cover for No...  \n",
       "4  Barnes &amp; Noble Dessin Leather Cover for No...  "
      ]
     },
     "execution_count": 87,
     "metadata": {},
     "output_type": "execute_result"
    }
   ],
   "source": [
    "amazon_qas.head()"
   ]
  },
  {
   "cell_type": "markdown",
   "metadata": {},
   "source": [
    "# Need to combine the description with all answers (and questions?) "
   ]
  },
  {
   "cell_type": "code",
   "execution_count": null,
   "metadata": {
    "collapsed": true
   },
   "outputs": [],
   "source": []
  },
  {
   "cell_type": "code",
   "execution_count": null,
   "metadata": {
    "collapsed": true
   },
   "outputs": [],
   "source": []
  },
  {
   "cell_type": "code",
   "execution_count": null,
   "metadata": {
    "collapsed": true
   },
   "outputs": [],
   "source": []
  },
  {
   "cell_type": "code",
   "execution_count": null,
   "metadata": {
    "collapsed": true
   },
   "outputs": [],
   "source": []
  },
  {
   "cell_type": "code",
   "execution_count": null,
   "metadata": {
    "collapsed": true
   },
   "outputs": [],
   "source": []
  },
  {
   "cell_type": "code",
   "execution_count": null,
   "metadata": {
    "collapsed": true
   },
   "outputs": [],
   "source": []
  },
  {
   "cell_type": "code",
   "execution_count": 22,
   "metadata": {
    "collapsed": true
   },
   "outputs": [],
   "source": [
    "yn_data['facts'] = yn_data['title'] + yn_data['description'] + yn_data['answer']"
   ]
  },
  {
   "cell_type": "code",
   "execution_count": 23,
   "metadata": {
    "collapsed": false
   },
   "outputs": [
    {
     "data": {
      "text/html": [
       "<div>\n",
       "<table border=\"1\" class=\"dataframe\">\n",
       "  <thead>\n",
       "    <tr style=\"text-align: right;\">\n",
       "      <th></th>\n",
       "      <th>answer</th>\n",
       "      <th>answerTime</th>\n",
       "      <th>answerType</th>\n",
       "      <th>asin</th>\n",
       "      <th>question</th>\n",
       "      <th>questionType</th>\n",
       "      <th>brand</th>\n",
       "      <th>categories</th>\n",
       "      <th>description</th>\n",
       "      <th>price</th>\n",
       "      <th>title</th>\n",
       "      <th>facts</th>\n",
       "    </tr>\n",
       "  </thead>\n",
       "  <tbody>\n",
       "    <tr>\n",
       "      <th>0</th>\n",
       "      <td>Yes this fits both the nook color and the same...</td>\n",
       "      <td>Dec 27, 2013</td>\n",
       "      <td>Y</td>\n",
       "      <td>0594033926</td>\n",
       "      <td>Is this cover the one that fits the old nook c...</td>\n",
       "      <td>yes/no</td>\n",
       "      <td>Barnes &amp;amp; Noble</td>\n",
       "      <td>[[Electronics, eBook Readers &amp; Accessories, Co...</td>\n",
       "      <td>The Dessin Cover in Noir for Nook Tablet helps...</td>\n",
       "      <td>9.99</td>\n",
       "      <td>Barnes &amp;amp; Noble Dessin Leather Cover for No...</td>\n",
       "      <td>Barnes &amp;amp; Noble Dessin Leather Cover for No...</td>\n",
       "    </tr>\n",
       "    <tr>\n",
       "      <th>1</th>\n",
       "      <td>No. The nook color or color tablet</td>\n",
       "      <td>Jan 5, 2015</td>\n",
       "      <td>N</td>\n",
       "      <td>0594033926</td>\n",
       "      <td>Does it fit Nook GlowLight?</td>\n",
       "      <td>yes/no</td>\n",
       "      <td>Barnes &amp;amp; Noble</td>\n",
       "      <td>[[Electronics, eBook Readers &amp; Accessories, Co...</td>\n",
       "      <td>The Dessin Cover in Noir for Nook Tablet helps...</td>\n",
       "      <td>9.99</td>\n",
       "      <td>Barnes &amp;amp; Noble Dessin Leather Cover for No...</td>\n",
       "      <td>Barnes &amp;amp; Noble Dessin Leather Cover for No...</td>\n",
       "    </tr>\n",
       "    <tr>\n",
       "      <th>2</th>\n",
       "      <td>yes</td>\n",
       "      <td>17 days ago</td>\n",
       "      <td>Y</td>\n",
       "      <td>0594033926</td>\n",
       "      <td>Will this fit a Nook Color that's 5 x 8?</td>\n",
       "      <td>yes/no</td>\n",
       "      <td>Barnes &amp;amp; Noble</td>\n",
       "      <td>[[Electronics, eBook Readers &amp; Accessories, Co...</td>\n",
       "      <td>The Dessin Cover in Noir for Nook Tablet helps...</td>\n",
       "      <td>9.99</td>\n",
       "      <td>Barnes &amp;amp; Noble Dessin Leather Cover for No...</td>\n",
       "      <td>Barnes &amp;amp; Noble Dessin Leather Cover for No...</td>\n",
       "    </tr>\n",
       "    <tr>\n",
       "      <th>3</th>\n",
       "      <td>No, the tab is smaller than the 'color'</td>\n",
       "      <td>Feb 10, 2015</td>\n",
       "      <td>N</td>\n",
       "      <td>0594033926</td>\n",
       "      <td>will this fit the Samsung Galaxy Tab 4 Nook 10.1</td>\n",
       "      <td>yes/no</td>\n",
       "      <td>Barnes &amp;amp; Noble</td>\n",
       "      <td>[[Electronics, eBook Readers &amp; Accessories, Co...</td>\n",
       "      <td>The Dessin Cover in Noir for Nook Tablet helps...</td>\n",
       "      <td>9.99</td>\n",
       "      <td>Barnes &amp;amp; Noble Dessin Leather Cover for No...</td>\n",
       "      <td>Barnes &amp;amp; Noble Dessin Leather Cover for No...</td>\n",
       "    </tr>\n",
       "    <tr>\n",
       "      <th>4</th>\n",
       "      <td>No, there is not a flip stand. It has a pocket...</td>\n",
       "      <td>Jan 30, 2015</td>\n",
       "      <td>N</td>\n",
       "      <td>0594033926</td>\n",
       "      <td>does it have a flip stand?</td>\n",
       "      <td>yes/no</td>\n",
       "      <td>Barnes &amp;amp; Noble</td>\n",
       "      <td>[[Electronics, eBook Readers &amp; Accessories, Co...</td>\n",
       "      <td>The Dessin Cover in Noir for Nook Tablet helps...</td>\n",
       "      <td>9.99</td>\n",
       "      <td>Barnes &amp;amp; Noble Dessin Leather Cover for No...</td>\n",
       "      <td>Barnes &amp;amp; Noble Dessin Leather Cover for No...</td>\n",
       "    </tr>\n",
       "  </tbody>\n",
       "</table>\n",
       "</div>"
      ],
      "text/plain": [
       "                                              answer    answerTime answerType  \\\n",
       "0  Yes this fits both the nook color and the same...  Dec 27, 2013          Y   \n",
       "1                 No. The nook color or color tablet   Jan 5, 2015          N   \n",
       "2                                                yes   17 days ago          Y   \n",
       "3            No, the tab is smaller than the 'color'  Feb 10, 2015          N   \n",
       "4  No, there is not a flip stand. It has a pocket...  Jan 30, 2015          N   \n",
       "\n",
       "         asin                                           question questionType  \\\n",
       "0  0594033926  Is this cover the one that fits the old nook c...       yes/no   \n",
       "1  0594033926                        Does it fit Nook GlowLight?       yes/no   \n",
       "2  0594033926           Will this fit a Nook Color that's 5 x 8?       yes/no   \n",
       "3  0594033926   will this fit the Samsung Galaxy Tab 4 Nook 10.1       yes/no   \n",
       "4  0594033926                         does it have a flip stand?       yes/no   \n",
       "\n",
       "                brand                                         categories  \\\n",
       "0  Barnes &amp; Noble  [[Electronics, eBook Readers & Accessories, Co...   \n",
       "1  Barnes &amp; Noble  [[Electronics, eBook Readers & Accessories, Co...   \n",
       "2  Barnes &amp; Noble  [[Electronics, eBook Readers & Accessories, Co...   \n",
       "3  Barnes &amp; Noble  [[Electronics, eBook Readers & Accessories, Co...   \n",
       "4  Barnes &amp; Noble  [[Electronics, eBook Readers & Accessories, Co...   \n",
       "\n",
       "                                         description  price  \\\n",
       "0  The Dessin Cover in Noir for Nook Tablet helps...   9.99   \n",
       "1  The Dessin Cover in Noir for Nook Tablet helps...   9.99   \n",
       "2  The Dessin Cover in Noir for Nook Tablet helps...   9.99   \n",
       "3  The Dessin Cover in Noir for Nook Tablet helps...   9.99   \n",
       "4  The Dessin Cover in Noir for Nook Tablet helps...   9.99   \n",
       "\n",
       "                                               title  \\\n",
       "0  Barnes &amp; Noble Dessin Leather Cover for No...   \n",
       "1  Barnes &amp; Noble Dessin Leather Cover for No...   \n",
       "2  Barnes &amp; Noble Dessin Leather Cover for No...   \n",
       "3  Barnes &amp; Noble Dessin Leather Cover for No...   \n",
       "4  Barnes &amp; Noble Dessin Leather Cover for No...   \n",
       "\n",
       "                                               facts  \n",
       "0  Barnes &amp; Noble Dessin Leather Cover for No...  \n",
       "1  Barnes &amp; Noble Dessin Leather Cover for No...  \n",
       "2  Barnes &amp; Noble Dessin Leather Cover for No...  \n",
       "3  Barnes &amp; Noble Dessin Leather Cover for No...  \n",
       "4  Barnes &amp; Noble Dessin Leather Cover for No...  "
      ]
     },
     "execution_count": 23,
     "metadata": {},
     "output_type": "execute_result"
    }
   ],
   "source": [
    "yn_data.head()"
   ]
  },
  {
   "cell_type": "code",
   "execution_count": 24,
   "metadata": {
    "collapsed": false
   },
   "outputs": [
    {
     "data": {
      "text/plain": [
       "\"Barnes &amp; Noble Dessin Leather Cover for Nook Color &amp; Nook Tablet Digital Reader  - NoirThe Dessin Cover in Noir for Nook Tablet helps you protect your e-reader with style. Able to fit both the standard Nook Color and the Nook Tablet, this Dessin Cover in Noir Cover For Nook Tablet has a glazed leather exterior and faux suede lining to provide soft and durable protection. A leather slide pocket inside the Nook Color Cover keeps your e-reader in place. These Nook Color Tablet Covers let you keep your Nook safe as you read it or as you carry it in your hand or in your backpack, tote bag or briefcase. A 3-point clip mechanism gives the Dessin Cover in Noir for Nook Tablet a secure hold on your e-reader, so it remains firmly attached. Even while your e-reader is inside the Nook Color Cover, you retain easy access to all of your device's ports and controls.Yes this fits both the nook color and the same-shaped nook tablet\""
      ]
     },
     "execution_count": 24,
     "metadata": {},
     "output_type": "execute_result"
    }
   ],
   "source": [
    "yn_data['facts'][0]"
   ]
  },
  {
   "cell_type": "markdown",
   "metadata": {},
   "source": [
    "# Drop columns we won't need yet out of the data to simplify things a little bit"
   ]
  },
  {
   "cell_type": "code",
   "execution_count": 25,
   "metadata": {
    "collapsed": false
   },
   "outputs": [],
   "source": [
    "yn_final = yn_data.drop(['answerTime','questionType','categories','description','brand','price','title','answer','asin'], axis=1)"
   ]
  },
  {
   "cell_type": "code",
   "execution_count": 26,
   "metadata": {
    "collapsed": false
   },
   "outputs": [
    {
     "data": {
      "text/html": [
       "<div>\n",
       "<table border=\"1\" class=\"dataframe\">\n",
       "  <thead>\n",
       "    <tr style=\"text-align: right;\">\n",
       "      <th></th>\n",
       "      <th>answerType</th>\n",
       "      <th>question</th>\n",
       "      <th>facts</th>\n",
       "    </tr>\n",
       "  </thead>\n",
       "  <tbody>\n",
       "    <tr>\n",
       "      <th>0</th>\n",
       "      <td>Y</td>\n",
       "      <td>Is this cover the one that fits the old nook c...</td>\n",
       "      <td>Barnes &amp;amp; Noble Dessin Leather Cover for No...</td>\n",
       "    </tr>\n",
       "    <tr>\n",
       "      <th>1</th>\n",
       "      <td>N</td>\n",
       "      <td>Does it fit Nook GlowLight?</td>\n",
       "      <td>Barnes &amp;amp; Noble Dessin Leather Cover for No...</td>\n",
       "    </tr>\n",
       "    <tr>\n",
       "      <th>2</th>\n",
       "      <td>Y</td>\n",
       "      <td>Will this fit a Nook Color that's 5 x 8?</td>\n",
       "      <td>Barnes &amp;amp; Noble Dessin Leather Cover for No...</td>\n",
       "    </tr>\n",
       "    <tr>\n",
       "      <th>3</th>\n",
       "      <td>N</td>\n",
       "      <td>will this fit the Samsung Galaxy Tab 4 Nook 10.1</td>\n",
       "      <td>Barnes &amp;amp; Noble Dessin Leather Cover for No...</td>\n",
       "    </tr>\n",
       "    <tr>\n",
       "      <th>4</th>\n",
       "      <td>N</td>\n",
       "      <td>does it have a flip stand?</td>\n",
       "      <td>Barnes &amp;amp; Noble Dessin Leather Cover for No...</td>\n",
       "    </tr>\n",
       "  </tbody>\n",
       "</table>\n",
       "</div>"
      ],
      "text/plain": [
       "  answerType                                           question  \\\n",
       "0          Y  Is this cover the one that fits the old nook c...   \n",
       "1          N                        Does it fit Nook GlowLight?   \n",
       "2          Y           Will this fit a Nook Color that's 5 x 8?   \n",
       "3          N   will this fit the Samsung Galaxy Tab 4 Nook 10.1   \n",
       "4          N                         does it have a flip stand?   \n",
       "\n",
       "                                               facts  \n",
       "0  Barnes &amp; Noble Dessin Leather Cover for No...  \n",
       "1  Barnes &amp; Noble Dessin Leather Cover for No...  \n",
       "2  Barnes &amp; Noble Dessin Leather Cover for No...  \n",
       "3  Barnes &amp; Noble Dessin Leather Cover for No...  \n",
       "4  Barnes &amp; Noble Dessin Leather Cover for No...  "
      ]
     },
     "execution_count": 26,
     "metadata": {},
     "output_type": "execute_result"
    }
   ],
   "source": [
    "yn_final.head()"
   ]
  },
  {
   "cell_type": "markdown",
   "metadata": {},
   "source": [
    "# rename the columns (just to make it easier to understand where the inputs are going to be going"
   ]
  },
  {
   "cell_type": "code",
   "execution_count": 27,
   "metadata": {
    "collapsed": true
   },
   "outputs": [],
   "source": [
    "yn_final.rename(columns={'answerType':'answer'},inplace=True)"
   ]
  },
  {
   "cell_type": "code",
   "execution_count": 29,
   "metadata": {
    "collapsed": false
   },
   "outputs": [
    {
     "data": {
      "text/html": [
       "<div>\n",
       "<table border=\"1\" class=\"dataframe\">\n",
       "  <thead>\n",
       "    <tr style=\"text-align: right;\">\n",
       "      <th></th>\n",
       "      <th>answer</th>\n",
       "      <th>question</th>\n",
       "      <th>facts</th>\n",
       "    </tr>\n",
       "  </thead>\n",
       "  <tbody>\n",
       "    <tr>\n",
       "      <th>0</th>\n",
       "      <td>Y</td>\n",
       "      <td>Is this cover the one that fits the old nook c...</td>\n",
       "      <td>Barnes &amp;amp; Noble Dessin Leather Cover for No...</td>\n",
       "    </tr>\n",
       "    <tr>\n",
       "      <th>1</th>\n",
       "      <td>N</td>\n",
       "      <td>Does it fit Nook GlowLight?</td>\n",
       "      <td>Barnes &amp;amp; Noble Dessin Leather Cover for No...</td>\n",
       "    </tr>\n",
       "    <tr>\n",
       "      <th>2</th>\n",
       "      <td>Y</td>\n",
       "      <td>Will this fit a Nook Color that's 5 x 8?</td>\n",
       "      <td>Barnes &amp;amp; Noble Dessin Leather Cover for No...</td>\n",
       "    </tr>\n",
       "    <tr>\n",
       "      <th>3</th>\n",
       "      <td>N</td>\n",
       "      <td>will this fit the Samsung Galaxy Tab 4 Nook 10.1</td>\n",
       "      <td>Barnes &amp;amp; Noble Dessin Leather Cover for No...</td>\n",
       "    </tr>\n",
       "    <tr>\n",
       "      <th>4</th>\n",
       "      <td>N</td>\n",
       "      <td>does it have a flip stand?</td>\n",
       "      <td>Barnes &amp;amp; Noble Dessin Leather Cover for No...</td>\n",
       "    </tr>\n",
       "  </tbody>\n",
       "</table>\n",
       "</div>"
      ],
      "text/plain": [
       "  answer                                           question  \\\n",
       "0      Y  Is this cover the one that fits the old nook c...   \n",
       "1      N                        Does it fit Nook GlowLight?   \n",
       "2      Y           Will this fit a Nook Color that's 5 x 8?   \n",
       "3      N   will this fit the Samsung Galaxy Tab 4 Nook 10.1   \n",
       "4      N                         does it have a flip stand?   \n",
       "\n",
       "                                               facts  \n",
       "0  Barnes &amp; Noble Dessin Leather Cover for No...  \n",
       "1  Barnes &amp; Noble Dessin Leather Cover for No...  \n",
       "2  Barnes &amp; Noble Dessin Leather Cover for No...  \n",
       "3  Barnes &amp; Noble Dessin Leather Cover for No...  \n",
       "4  Barnes &amp; Noble Dessin Leather Cover for No...  "
      ]
     },
     "execution_count": 29,
     "metadata": {},
     "output_type": "execute_result"
    }
   ],
   "source": [
    "yn_final.head()"
   ]
  },
  {
   "cell_type": "code",
   "execution_count": 54,
   "metadata": {
    "collapsed": true
   },
   "outputs": [],
   "source": [
    "yn_final['answer'].replace(to_replace=dict(Y='yes',N='no'),inplace=True)"
   ]
  },
  {
   "cell_type": "code",
   "execution_count": 55,
   "metadata": {
    "collapsed": false
   },
   "outputs": [
    {
     "data": {
      "text/html": [
       "<div>\n",
       "<table border=\"1\" class=\"dataframe\">\n",
       "  <thead>\n",
       "    <tr style=\"text-align: right;\">\n",
       "      <th></th>\n",
       "      <th>answer</th>\n",
       "      <th>question</th>\n",
       "      <th>facts</th>\n",
       "    </tr>\n",
       "  </thead>\n",
       "  <tbody>\n",
       "    <tr>\n",
       "      <th>0</th>\n",
       "      <td>yes</td>\n",
       "      <td>Is this cover the one that fits the old nook c...</td>\n",
       "      <td>Barnes &amp;amp; Noble Dessin Leather Cover for No...</td>\n",
       "    </tr>\n",
       "    <tr>\n",
       "      <th>1</th>\n",
       "      <td>no</td>\n",
       "      <td>Does it fit Nook GlowLight?</td>\n",
       "      <td>Barnes &amp;amp; Noble Dessin Leather Cover for No...</td>\n",
       "    </tr>\n",
       "    <tr>\n",
       "      <th>2</th>\n",
       "      <td>yes</td>\n",
       "      <td>Will this fit a Nook Color that's 5 x 8?</td>\n",
       "      <td>Barnes &amp;amp; Noble Dessin Leather Cover for No...</td>\n",
       "    </tr>\n",
       "    <tr>\n",
       "      <th>3</th>\n",
       "      <td>no</td>\n",
       "      <td>will this fit the Samsung Galaxy Tab 4 Nook 10.1</td>\n",
       "      <td>Barnes &amp;amp; Noble Dessin Leather Cover for No...</td>\n",
       "    </tr>\n",
       "    <tr>\n",
       "      <th>4</th>\n",
       "      <td>no</td>\n",
       "      <td>does it have a flip stand?</td>\n",
       "      <td>Barnes &amp;amp; Noble Dessin Leather Cover for No...</td>\n",
       "    </tr>\n",
       "  </tbody>\n",
       "</table>\n",
       "</div>"
      ],
      "text/plain": [
       "  answer                                           question  \\\n",
       "0    yes  Is this cover the one that fits the old nook c...   \n",
       "1     no                        Does it fit Nook GlowLight?   \n",
       "2    yes           Will this fit a Nook Color that's 5 x 8?   \n",
       "3     no   will this fit the Samsung Galaxy Tab 4 Nook 10.1   \n",
       "4     no                         does it have a flip stand?   \n",
       "\n",
       "                                               facts  \n",
       "0  Barnes &amp; Noble Dessin Leather Cover for No...  \n",
       "1  Barnes &amp; Noble Dessin Leather Cover for No...  \n",
       "2  Barnes &amp; Noble Dessin Leather Cover for No...  \n",
       "3  Barnes &amp; Noble Dessin Leather Cover for No...  \n",
       "4  Barnes &amp; Noble Dessin Leather Cover for No...  "
      ]
     },
     "execution_count": 55,
     "metadata": {},
     "output_type": "execute_result"
    }
   ],
   "source": [
    "yn_final.head()"
   ]
  },
  {
   "cell_type": "code",
   "execution_count": 68,
   "metadata": {
    "collapsed": false
   },
   "outputs": [
    {
     "data": {
      "text/plain": [
       "0"
      ]
     },
     "execution_count": 68,
     "metadata": {},
     "output_type": "execute_result"
    }
   ],
   "source": [
    "len(yn_final[yn_final['answer']=='?'])"
   ]
  },
  {
   "cell_type": "code",
   "execution_count": 63,
   "metadata": {
    "collapsed": false
   },
   "outputs": [
    {
     "data": {
      "text/plain": [
       "163430"
      ]
     },
     "execution_count": 63,
     "metadata": {},
     "output_type": "execute_result"
    }
   ],
   "source": [
    "len(yn_final)"
   ]
  },
  {
   "cell_type": "code",
   "execution_count": 69,
   "metadata": {
    "collapsed": false
   },
   "outputs": [],
   "source": [
    "yn_final = yn_final[(yn_final['answer'] == 'yes') | (yn_final['answer'] == 'no')]"
   ]
  },
  {
   "cell_type": "markdown",
   "metadata": {
    "collapsed": true
   },
   "source": [
    "# Need to write the file to mongodb "
   ]
  },
  {
   "cell_type": "code",
   "execution_count": 51,
   "metadata": {
    "collapsed": true
   },
   "outputs": [],
   "source": [
    "from pymongo import MongoClient\n",
    "import json"
   ]
  },
  {
   "cell_type": "code",
   "execution_count": 47,
   "metadata": {
    "collapsed": false
   },
   "outputs": [],
   "source": [
    "# connect to the server with the collections/databases\n",
    "client = MongoClient('ds019936.mlab.com:19936')"
   ]
  },
  {
   "cell_type": "code",
   "execution_count": 48,
   "metadata": {
    "collapsed": false
   },
   "outputs": [],
   "source": [
    "# connect to the specific collection\n",
    "db = client.test_network"
   ]
  },
  {
   "cell_type": "code",
   "execution_count": 50,
   "metadata": {
    "collapsed": false
   },
   "outputs": [
    {
     "data": {
      "text/plain": [
       "True"
      ]
     },
     "execution_count": 50,
     "metadata": {},
     "output_type": "execute_result"
    }
   ],
   "source": [
    "# pass in credentials\n",
    "db.authenticate('wcc3af','test_network', source='test_network')"
   ]
  },
  {
   "cell_type": "code",
   "execution_count": 71,
   "metadata": {
    "collapsed": true
   },
   "outputs": [],
   "source": [
    "records = json.loads(yn_final.T.to_json()).values()"
   ]
  },
  {
   "cell_type": "code",
   "execution_count": 72,
   "metadata": {
    "collapsed": false
   },
   "outputs": [
    {
     "data": {
      "text/plain": [
       "{u'answer': u'yes',\n",
       " u'facts': u'AMD V-SERIES V140 2.3 GHZ CPU PROCESSOR VMV140SGR12GM SOCKET S1 TESTEDAMD V Series V140 2.3GHz VMV140SGR12GM OEMYES',\n",
       " u'question': u'will this work on hp 635?'}"
      ]
     },
     "execution_count": 72,
     "metadata": {},
     "output_type": "execute_result"
    }
   ],
   "source": [
    "records[1]"
   ]
  },
  {
   "cell_type": "code",
   "execution_count": 76,
   "metadata": {
    "collapsed": false
   },
   "outputs": [
    {
     "data": {
      "text/plain": [
       "<pymongo.results.InsertManyResult at 0x20c028960>"
      ]
     },
     "execution_count": 76,
     "metadata": {},
     "output_type": "execute_result"
    }
   ],
   "source": [
    "db.test_network.insert_many(records)"
   ]
  },
  {
   "cell_type": "code",
   "execution_count": null,
   "metadata": {
    "collapsed": true
   },
   "outputs": [],
   "source": []
  }
 ],
 "metadata": {
  "kernelspec": {
   "display_name": "Python 2",
   "language": "python",
   "name": "python2"
  },
  "language_info": {
   "codemirror_mode": {
    "name": "ipython",
    "version": 2
   },
   "file_extension": ".py",
   "mimetype": "text/x-python",
   "name": "python",
   "nbconvert_exporter": "python",
   "pygments_lexer": "ipython2",
   "version": "2.7.11"
  }
 },
 "nbformat": 4,
 "nbformat_minor": 0
}
